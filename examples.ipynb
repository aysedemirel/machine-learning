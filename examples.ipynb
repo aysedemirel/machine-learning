{
  "nbformat": 4,
  "nbformat_minor": 0,
  "metadata": {
    "colab": {
      "provenance": [],
      "collapsed_sections": [
        "NlP5e1ULL8uJ",
        "9r8l6re9POhD",
        "cNi1ux5ZQ-0S"
      ],
      "authorship_tag": "ABX9TyOTtYBb209nNHsx88B7Gxt+"
    },
    "kernelspec": {
      "name": "python3",
      "display_name": "Python 3"
    },
    "language_info": {
      "name": "python"
    }
  },
  "cells": [
    {
      "cell_type": "markdown",
      "source": [
        "# Health Insurance"
      ],
      "metadata": {
        "id": "NlP5e1ULL8uJ"
      }
    },
    {
      "cell_type": "code",
      "execution_count": 8,
      "metadata": {
        "id": "nKZtrv6dLnXn"
      },
      "outputs": [],
      "source": [
        "class HealthInsurance:\n",
        "  def __init__(self, company_name, foundation_year, founder_name, company_slogan, num_of_employees, num_of_clients):\n",
        "    self.company_name = company_name\n",
        "    self.foundation_year = foundation_year\n",
        "    self.founder_name = founder_name\n",
        "    self.company_slogan = company_slogan\n",
        "    self.num_of_employees = num_of_employees\n",
        "    self.num_of_clients = num_of_clients\n",
        "\n",
        "  def print_report(self):\n",
        "    print(f\"\"\"The company {self.company_name} was founded in {self.foundation_year}.\n",
        "    The founder of the company is {self.founder_name}.\n",
        "    Company slogan: {self.company_slogan}\n",
        "    Number of emplooyes: {self.num_of_employees}\n",
        "    Number of client: {self.num_of_clients}\"\"\")\n",
        "\n",
        "  def sup_health_insurance(self, age, chronic_disease, income):\n",
        "    if age >= 60 and chronic_disease == True and income < 6000:\n",
        "      print(\"We are sorry! You are not eligible for supplemental health insurance.\")\n",
        "    elif age < 60 and income >= 6000 or chronic_disease == False:\n",
        "      print(\"Congratulations! You can get supplemental health insurance.\")\n",
        "\n",
        "  def update_num_clients(self, new_number):\n",
        "    self.num_of_clients = new_number\n",
        "    print(f\"Number of clients has been changed to {self.num_of_clients}\")"
      ]
    },
    {
      "cell_type": "code",
      "source": [
        "HI_company1 = HealthInsurance(\"Healthy\", 2012, \"Bob Mayer\", \"We care for you.\", 3500, 13230)"
      ],
      "metadata": {
        "id": "9fUk5m7rN_k9"
      },
      "execution_count": 9,
      "outputs": []
    },
    {
      "cell_type": "code",
      "source": [
        "HI_company1.sup_health_insurance(45, False, 5000)"
      ],
      "metadata": {
        "colab": {
          "base_uri": "https://localhost:8080/"
        },
        "id": "4EZgP8PxONEf",
        "outputId": "631f23e4-5cde-47ef-f8b5-a550c51f3ebe"
      },
      "execution_count": 10,
      "outputs": [
        {
          "output_type": "stream",
          "name": "stdout",
          "text": [
            "Congratulations! You can get supplemental health insurance.\n"
          ]
        }
      ]
    },
    {
      "cell_type": "code",
      "source": [
        "HI_company1.update_num_clients(13231)"
      ],
      "metadata": {
        "colab": {
          "base_uri": "https://localhost:8080/"
        },
        "id": "vUfDeYfqOdjy",
        "outputId": "04bf06ce-45c7-4f1b-e2f6-bcf259ee2a44"
      },
      "execution_count": 11,
      "outputs": [
        {
          "output_type": "stream",
          "name": "stdout",
          "text": [
            "Number of clients has been changed to 13231\n"
          ]
        }
      ]
    },
    {
      "cell_type": "code",
      "source": [
        "HI_company1.print_report()"
      ],
      "metadata": {
        "colab": {
          "base_uri": "https://localhost:8080/"
        },
        "id": "4Ia3VLNWOjUD",
        "outputId": "418946a0-0dbb-47d4-fd3a-36be7f21409c"
      },
      "execution_count": 12,
      "outputs": [
        {
          "output_type": "stream",
          "name": "stdout",
          "text": [
            "The company Healthy was founded in 2012.\n",
            "    The founder of the company is Bob Mayer.\n",
            "    Company slogan: We care for you.\n",
            "    Number of emplooyes: 3500\n",
            "    Number of client: 13231\n"
          ]
        }
      ]
    },
    {
      "cell_type": "markdown",
      "source": [
        "# Logistic"
      ],
      "metadata": {
        "id": "9r8l6re9POhD"
      }
    },
    {
      "cell_type": "code",
      "source": [
        "class Logistic:\n",
        "  def __init__(self, company_name, foundation_year, founder_name, company_slogan, inventory_space):\n",
        "    self.company_name = company_name\n",
        "    self.foundation_year = foundation_year\n",
        "    self.founder_name = founder_name\n",
        "    self.company_slogan = company_slogan\n",
        "    self.inventory_space = inventory_space\n",
        "\n",
        "  def print_report(self):\n",
        "    print(f\"\"\"\n",
        "    The compant name is {self.company_name} and was founded in {self.foundation_year}.\n",
        "    The founder of the company is {self.founder_name}.\n",
        "    Company slogan: {self.company_slogan}\n",
        "    Inventory space of the company: {self.inventory_space}\"\"\")\n",
        "\n",
        "  def update_inventory_space(self, new_storage_space):\n",
        "    self.inventory_space = new_storage_space\n",
        "    print(f\"Inventory space has been changed to {self.inventory_space}\")"
      ],
      "metadata": {
        "id": "iWBbDpRTPa8h"
      },
      "execution_count": 13,
      "outputs": []
    },
    {
      "cell_type": "code",
      "source": [
        "logistic_company1 = Logistic(\"LogCom\", 1990, \"Laura McCartey\", \"There is no place we cannot reach.\", 2500)"
      ],
      "metadata": {
        "id": "NRr02It3QkNU"
      },
      "execution_count": 14,
      "outputs": []
    },
    {
      "cell_type": "code",
      "source": [
        "logistic_company1.update_inventory_space(3000)\n",
        "logistic_company1.print_report()"
      ],
      "metadata": {
        "colab": {
          "base_uri": "https://localhost:8080/"
        },
        "id": "Q3y6RUjXQyRt",
        "outputId": "dc62f81f-f00a-4fa1-bbb0-ebcce094dc8a"
      },
      "execution_count": 15,
      "outputs": [
        {
          "output_type": "stream",
          "name": "stdout",
          "text": [
            "Inventory space has been changed to 3000\n",
            "\n",
            "    The compant name is LogCom and was founded in 1990.\n",
            "    The founder of the company is Laura McCartey.\n",
            "    Company slogan: There is no place we cannot reach.\n",
            "    Inventory space of the company: 3000\n"
          ]
        }
      ]
    },
    {
      "cell_type": "markdown",
      "source": [
        "# Trading"
      ],
      "metadata": {
        "id": "cNi1ux5ZQ-0S"
      }
    },
    {
      "cell_type": "code",
      "source": [
        "class Trading:\n",
        "  def __init__(self, company_name, foundation_year, founder_name, company_slogan, sales, expenses, revenue):\n",
        "    self.company_name = company_name\n",
        "    self.foundation_year = foundation_year\n",
        "    self.founder_name = founder_name\n",
        "    self.company_slogan = company_slogan\n",
        "    self.sales = sales\n",
        "    self.expenses = expenses\n",
        "    self.revenue = revenue\n",
        "\n",
        "  def print_report(self):\n",
        "    print(f\"\"\"\n",
        "     The compant name is {self.company_name} and was founded in {self.foundation_year}.\n",
        "     The founder of the company is {self.founder_name}.\n",
        "     Company slogan: {self.company_slogan}\n",
        "     Total sales: {self.sales}\n",
        "     Total expenses: {self.expenses}\n",
        "     Total revenue: {self.revenue}\"\"\")\n",
        "\n",
        "  def update_sales_and_expenses(self, new_sales, new_expenses):\n",
        "    self.sales += new_sales\n",
        "    self.expenses += new_expenses\n",
        "    print(\"Sales and expenses are updated\")\n",
        "\n",
        "  def calculate_revenue(self):\n",
        "    self.revenue = self.sales - self.expenses\n",
        "    print(f\"The revenue of the company is: {self.revenue}\")"
      ],
      "metadata": {
        "id": "OXZH6LTiRAdL"
      },
      "execution_count": 16,
      "outputs": []
    },
    {
      "cell_type": "code",
      "source": [
        "trading_company1 = Trading(\"TraCom\", 2005, \"Chong Mu\", \"We revolutionize trading.\", 5000, 2000, 3000)"
      ],
      "metadata": {
        "id": "Xa0kjt5iSPWU"
      },
      "execution_count": 17,
      "outputs": []
    },
    {
      "cell_type": "code",
      "source": [
        "trading_company1.update_sales_and_expenses(100, 50)"
      ],
      "metadata": {
        "colab": {
          "base_uri": "https://localhost:8080/"
        },
        "id": "vldxl2tXSeHz",
        "outputId": "a3109a4e-e351-4795-9f36-124c3951fc85"
      },
      "execution_count": 18,
      "outputs": [
        {
          "output_type": "stream",
          "name": "stdout",
          "text": [
            "Sales and expenses are updated\n"
          ]
        }
      ]
    },
    {
      "cell_type": "code",
      "source": [
        "trading_company1.calculate_revenue()"
      ],
      "metadata": {
        "colab": {
          "base_uri": "https://localhost:8080/"
        },
        "id": "9DJHdT6rSjnm",
        "outputId": "890dc6fa-6fee-46a7-fa43-5bd4862f45de"
      },
      "execution_count": 20,
      "outputs": [
        {
          "output_type": "stream",
          "name": "stdout",
          "text": [
            "The revenue of the company is: 3050\n"
          ]
        }
      ]
    },
    {
      "cell_type": "code",
      "source": [
        "trading_company1.print_report()"
      ],
      "metadata": {
        "colab": {
          "base_uri": "https://localhost:8080/"
        },
        "id": "7UdjT7S6SoyZ",
        "outputId": "038c3fd6-0a91-4832-dc16-1c242bf4afd4"
      },
      "execution_count": 21,
      "outputs": [
        {
          "output_type": "stream",
          "name": "stdout",
          "text": [
            "\n",
            "     The compant name is TraCom and was founded in 2005.\n",
            "     The founder of the company is Chong Mu.\n",
            "     Company slogan: We revolutionize trading.\n",
            "     Total sales: 5100\n",
            "     Total expenses: 2050\n",
            "     Total revenue: 3050\n"
          ]
        }
      ]
    }
  ]
}