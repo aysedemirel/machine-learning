{
  "nbformat": 4,
  "nbformat_minor": 0,
  "metadata": {
    "colab": {
      "provenance": [],
      "authorship_tag": "ABX9TyN9+cQ+1gdQ0whaJINrp+rk"
    },
    "kernelspec": {
      "name": "python3",
      "display_name": "Python 3"
    },
    "language_info": {
      "name": "python"
    }
  },
  "cells": [
    {
      "cell_type": "markdown",
      "source": [
        "# Health Insurance"
      ],
      "metadata": {
        "id": "NlP5e1ULL8uJ"
      }
    },
    {
      "cell_type": "code",
      "execution_count": 8,
      "metadata": {
        "id": "nKZtrv6dLnXn"
      },
      "outputs": [],
      "source": [
        "class HealthInsurance:\n",
        "  def __init__(self, company_name, foundation_year, founder_name, company_slogan, num_of_employees, num_of_clients):\n",
        "    self.company_name = company_name\n",
        "    self.foundation_year = foundation_year\n",
        "    self.founder_name = founder_name\n",
        "    self.company_slogan = company_slogan\n",
        "    self.num_of_employees = num_of_employees\n",
        "    self.num_of_clients = num_of_clients\n",
        "\n",
        "  def print_report(self):\n",
        "    print(f\"\"\"The company {self.company_name} was founded in {self.foundation_year}.\n",
        "    The founder of the company is {self.founder_name}.\n",
        "    Company slogan: {self.company_slogan}\n",
        "    Number of emplooyes: {self.num_of_employees}\n",
        "    Number of client: {self.num_of_clients}\"\"\")\n",
        "\n",
        "  def sup_health_insurance(self, age, chronic_disease, income):\n",
        "    if age >= 60 and chronic_disease == True and income < 6000:\n",
        "      print(\"We are sorry! You are not eligible for supplemental health insurance.\")\n",
        "    elif age < 60 and income >= 6000 or chronic_disease == False:\n",
        "      print(\"Congratulations! You can get supplemental health insurance.\")\n",
        "\n",
        "  def update_num_clients(self, new_number):\n",
        "    self.num_of_clients = new_number\n",
        "    print(f\"Number of clients has been changed to {self.num_of_clients}\")"
      ]
    },
    {
      "cell_type": "code",
      "source": [
        "HI_company1 = HealthInsurance(\"Healthy\", 2012, \"Bob Mayer\", \"We care for you.\", 3500, 13230)"
      ],
      "metadata": {
        "id": "9fUk5m7rN_k9"
      },
      "execution_count": 9,
      "outputs": []
    },
    {
      "cell_type": "code",
      "source": [
        "HI_company1.sup_health_insurance(45, False, 5000)"
      ],
      "metadata": {
        "colab": {
          "base_uri": "https://localhost:8080/"
        },
        "id": "4EZgP8PxONEf",
        "outputId": "631f23e4-5cde-47ef-f8b5-a550c51f3ebe"
      },
      "execution_count": 10,
      "outputs": [
        {
          "output_type": "stream",
          "name": "stdout",
          "text": [
            "Congratulations! You can get supplemental health insurance.\n"
          ]
        }
      ]
    },
    {
      "cell_type": "code",
      "source": [
        "HI_company1.update_num_clients(13231)"
      ],
      "metadata": {
        "colab": {
          "base_uri": "https://localhost:8080/"
        },
        "id": "vUfDeYfqOdjy",
        "outputId": "04bf06ce-45c7-4f1b-e2f6-bcf259ee2a44"
      },
      "execution_count": 11,
      "outputs": [
        {
          "output_type": "stream",
          "name": "stdout",
          "text": [
            "Number of clients has been changed to 13231\n"
          ]
        }
      ]
    },
    {
      "cell_type": "code",
      "source": [
        "HI_company1.print_report()"
      ],
      "metadata": {
        "colab": {
          "base_uri": "https://localhost:8080/"
        },
        "id": "4Ia3VLNWOjUD",
        "outputId": "418946a0-0dbb-47d4-fd3a-36be7f21409c"
      },
      "execution_count": 12,
      "outputs": [
        {
          "output_type": "stream",
          "name": "stdout",
          "text": [
            "The company Healthy was founded in 2012.\n",
            "    The founder of the company is Bob Mayer.\n",
            "    Company slogan: We care for you.\n",
            "    Number of emplooyes: 3500\n",
            "    Number of client: 13231\n"
          ]
        }
      ]
    }
  ]
}