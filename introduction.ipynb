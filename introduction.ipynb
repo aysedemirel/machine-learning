{
  "nbformat": 4,
  "nbformat_minor": 0,
  "metadata": {
    "colab": {
      "provenance": [],
      "collapsed_sections": [
        "Wr8gHH22opPI"
      ],
      "authorship_tag": "ABX9TyP+ffV87anNhfs8mbG+/dQm"
    },
    "kernelspec": {
      "name": "python3",
      "display_name": "Python 3"
    },
    "language_info": {
      "name": "python"
    }
  },
  "cells": [
    {
      "cell_type": "markdown",
      "source": [
        "# Guided project 1"
      ],
      "metadata": {
        "id": "PDrBErM4idve"
      }
    },
    {
      "cell_type": "markdown",
      "source": [
        "* **List** is a collection which is ordered and changeable. Allows duplicate members.\n",
        "```\n",
        "mylist = [\"apple\", \"banana\", \"cherry\"]\n",
        "```\n",
        "* **Tuple** is a collection which is ordered and unchangeable. Allows duplicate members.\n",
        "```\n",
        "mytuple = (\"apple\", \"banana\", \"cherry\")\n",
        "```\n",
        "* **Set** is a collection which is unordered, unchangeable*, and unindexed. No duplicate members.\n",
        "```\n",
        "myset = {\"apple\", \"banana\", \"cherry\"}\n",
        "```\n",
        "* **Dictionary** is a collection which is ordered** and changeable. No duplicate members.\n",
        "```\n",
        "thisdict = {\n",
        "  \"brand\": \"Ford\",\n",
        "  \"model\": \"Mustang\",\n",
        "  \"year\": 1964\n",
        "}\n",
        "```"
      ],
      "metadata": {
        "id": "ZBIQIyAzA3Uz"
      }
    },
    {
      "cell_type": "markdown",
      "source": [
        "## PART 1"
      ],
      "metadata": {
        "id": "Wr8gHH22opPI"
      }
    },
    {
      "cell_type": "code",
      "execution_count": 283,
      "metadata": {
        "id": "ArvjXT6A-T35"
      },
      "outputs": [],
      "source": [
        "my_name = \"Ayse\"\n",
        "my_surname = \"Demirel Deniz\"\n",
        "my_age = 29\n",
        "ID_number = 123456789\n",
        "where_i_live = \"Turkiye\"\n",
        "health_insurance = True\n",
        "# my_nationality = \"Turkish\""
      ]
    },
    {
      "cell_type": "markdown",
      "source": [
        "**f\"\" is an alternative for \"\".format(\"\")**\n",
        "\n",
        "*Exp:*\n",
        "\n",
        "\n",
        "```\n",
        ">>> vocab = \"World\"\n",
        ">>> \"Hello {vocab}!\".format(vocab = vocab)\n",
        "'Hello World!'\n",
        ">>> f\"Hello {vocab}!\"\n",
        "'Hello World!'\n",
        "```\n",
        "\n"
      ],
      "metadata": {
        "id": "P4kquPxYil7O"
      }
    },
    {
      "cell_type": "code",
      "source": [
        "# Write a sentence using the print function to describe yourself using the variables above in the correct data type\n",
        "print(f\"My name is {my_name} {my_surname}. I am {my_age} years old, I live in {where_i_live}\")"
      ],
      "metadata": {
        "colab": {
          "base_uri": "https://localhost:8080/"
        },
        "id": "RwwFsXwwhkZ6",
        "outputId": "c3360c0e-2c73-4851-faa7-5affee9e1d81"
      },
      "execution_count": 284,
      "outputs": [
        {
          "output_type": "stream",
          "name": "stdout",
          "text": [
            "My name is Ayse Demirel Deniz. I am 29 years old, I live in Turkiye\n"
          ]
        }
      ]
    },
    {
      "cell_type": "markdown",
      "source": [
        "Lists are used to store multiple items in a single variable.\n",
        "\n",
        "```\n",
        "mylist = [\"apple\", \"banana\", \"cherry\"]\n",
        "```\n",
        "\n",
        "List items are indexed, the first item has index [0], the second item has index [1] etc.\n",
        "\n",
        "List items are ordered, changeable, and allow duplicate values.\n",
        "\n",
        "\n",
        "- When we say that lists are **ordered**, it means that the items have a defined order, and that order will not change.\n",
        "If you add new items to a list, the new items will be placed at the end of the list.\n",
        "- The list is **changeable**, meaning that we can change, add, and remove items in a list after it has been created.\n",
        "- Since lists are indexed, lists can have items with the same value.\n",
        "\n",
        "To determine how many items a list has, use the len() function.\n",
        "\n",
        "List items can be of any data type."
      ],
      "metadata": {
        "id": "r6ebm7raqJJA"
      }
    },
    {
      "cell_type": "code",
      "source": [
        "item_list = [\"Laptop\", \"Headset\", \"Second monitor\", \"Mousepad\", \"USB drive\", \"External drive\"]"
      ],
      "metadata": {
        "id": "vKXmdk5Sj4CT"
      },
      "execution_count": 285,
      "outputs": []
    },
    {
      "cell_type": "code",
      "source": [
        "print(item_list)"
      ],
      "metadata": {
        "colab": {
          "base_uri": "https://localhost:8080/"
        },
        "id": "lQ5SbJMekFmz",
        "outputId": "351f97c1-f3c8-408e-96af-0e1b6c7162a6"
      },
      "execution_count": 286,
      "outputs": [
        {
          "output_type": "stream",
          "name": "stdout",
          "text": [
            "['Laptop', 'Headset', 'Second monitor', 'Mousepad', 'USB drive', 'External drive']\n"
          ]
        }
      ]
    },
    {
      "cell_type": "code",
      "source": [
        "mandatory_item_list = item_list[0:3]"
      ],
      "metadata": {
        "id": "VAp73UsjkN0M"
      },
      "execution_count": 287,
      "outputs": []
    },
    {
      "cell_type": "code",
      "source": [
        "optional_item_list = item_list[3:6]"
      ],
      "metadata": {
        "id": "bImew6YHkTcr"
      },
      "execution_count": 288,
      "outputs": []
    },
    {
      "cell_type": "code",
      "source": [
        "print(mandatory_item_list)\n",
        "print(optional_item_list)"
      ],
      "metadata": {
        "colab": {
          "base_uri": "https://localhost:8080/"
        },
        "id": "dU87bgHSkXhi",
        "outputId": "d5d28313-0a26-4334-ed07-1a3cef067b51"
      },
      "execution_count": 289,
      "outputs": [
        {
          "output_type": "stream",
          "name": "stdout",
          "text": [
            "['Laptop', 'Headset', 'Second monitor']\n",
            "['Mousepad', 'USB drive', 'External drive']\n"
          ]
        }
      ]
    },
    {
      "cell_type": "markdown",
      "source": [
        "## PART 2"
      ],
      "metadata": {
        "id": "ezFbBddQot1m"
      }
    },
    {
      "cell_type": "markdown",
      "source": [
        "Dictionaries are used to store data values in *key:value* pairs.\n",
        "\n",
        "```\n",
        "thisdict = {\n",
        "  \"brand\": \"Ford\",\n",
        "  \"model\": \"Mustang\",\n",
        "  \"year\": 1964\n",
        "}\n",
        "```\n",
        "\n",
        "A dictionary is a collection which is ordered, changeable and do not allow duplicates.\n",
        "\n",
        "When we say that dictionaries are ordered, it means that the items have a defined order, and that order will not change.\n",
        "\n",
        "Unordered means that the items do not have a defined order, you cannot refer to an item by using an index.\n",
        "\n",
        "Dictionaries are changeable, meaning that we can change, add or remove items after the dictionary has been created.\n",
        "\n",
        "To determine how many items a dictionary has, use the len() function.\n",
        "\n",
        "The values in dictionary items can be of any data type."
      ],
      "metadata": {
        "id": "6Hl9c7ikpQJi"
      }
    },
    {
      "cell_type": "code",
      "source": [
        "limit = 5000"
      ],
      "metadata": {
        "id": "5QZ0QJ4uowiK"
      },
      "execution_count": 290,
      "outputs": []
    },
    {
      "cell_type": "code",
      "source": [
        "price_sheet = {\n",
        "    \"Laptop\": 1500,\n",
        "    \"Headset\": 100,\n",
        "    \"Second monitor\": 200,\n",
        "    \"Mousepad\": 50,\n",
        "    \"USB drive\": 70,\n",
        "    \"External drive\": 250\n",
        "}"
      ],
      "metadata": {
        "id": "Tj5BKr5Eo01A"
      },
      "execution_count": 291,
      "outputs": []
    },
    {
      "cell_type": "code",
      "source": [
        "cart = []"
      ],
      "metadata": {
        "id": "buSOGaidrWoK"
      },
      "execution_count": 292,
      "outputs": []
    },
    {
      "cell_type": "code",
      "source": [
        "def add_to_cart (item, quantity):\n",
        "  cart.append((item,quantity))\n",
        "  item_list.remove(item)\n",
        "  # print(\"cart: \",cart)\n",
        "  # print(\"item_list: \",item_list)"
      ],
      "metadata": {
        "id": "Xi0uXAGhrbid"
      },
      "execution_count": 293,
      "outputs": []
    },
    {
      "cell_type": "code",
      "source": [
        "def create_invoice():\n",
        "  total_amount_inc_tax = 0\n",
        "  # print(len(cart))\n",
        "  for item, quantity in cart:\n",
        "    # print(\"create_invoice: \", item, \" - \", quantity)\n",
        "    price = price_sheet[item]\n",
        "    tax = 0.18 * price\n",
        "    total = (tax + price) * quantity\n",
        "    total_amount_inc_tax += total\n",
        "\n",
        "    print('Item:',item,\"\\t\",\"Price:\",price,\"\\t\",\"Quantity:\",quantity,\"\\t\",\"Tax:\",tax,\"\\t\",\"Total:\",total,\"\\n\")\n",
        "    print(\"After the taxes are applied the total amount is\",\"\\t\",total_amount_inc_tax)\n",
        "\n",
        "  return total_amount_inc_tax"
      ],
      "metadata": {
        "id": "OexoKB4or3UV"
      },
      "execution_count": 294,
      "outputs": []
    },
    {
      "cell_type": "code",
      "source": [
        "def checkout():\n",
        "  global limit\n",
        "  total_amount = create_invoice();\n",
        "  if limit == 0:\n",
        "    print(\"You don't have any budget\")\n",
        "  elif total_amount>limit:\n",
        "    print(\"The amount you have to pay is above the spending limit. You have to drop some items.\")\n",
        "  else:\n",
        "    limit -= total_amount\n",
        "    print(f\"The total amount (incl. taxes) you've paid is {total_amount}. You have {limit} dollars left\")"
      ],
      "metadata": {
        "id": "YXJzOlE_tCe5"
      },
      "execution_count": 295,
      "outputs": []
    },
    {
      "cell_type": "code",
      "source": [
        "add_to_cart(\"Laptop\",1)\n",
        "add_to_cart(\"Headset\",3)\n",
        "add_to_cart(\"Second monitor\", 2)\n",
        "add_to_cart(\"Mousepad\", 2)\n",
        "add_to_cart(\"USB drive\",1)\n",
        "add_to_cart(\"External drive\", 1)\n",
        "\n",
        "checkout()"
      ],
      "metadata": {
        "colab": {
          "base_uri": "https://localhost:8080/"
        },
        "id": "lNlnNrRcuVt6",
        "outputId": "80e5b6ec-b03b-4cfe-e3ea-10d999d15fbf"
      },
      "execution_count": 296,
      "outputs": [
        {
          "output_type": "stream",
          "name": "stdout",
          "text": [
            "Item: Laptop \t Price: 1500 \t Quantity: 1 \t Tax: 270.0 \t Total: 1770.0 \n",
            "\n",
            "After the taxes are applied the total amount is \t 1770.0\n",
            "Item: Headset \t Price: 100 \t Quantity: 3 \t Tax: 18.0 \t Total: 354.0 \n",
            "\n",
            "After the taxes are applied the total amount is \t 2124.0\n",
            "Item: Second monitor \t Price: 200 \t Quantity: 2 \t Tax: 36.0 \t Total: 472.0 \n",
            "\n",
            "After the taxes are applied the total amount is \t 2596.0\n",
            "Item: Mousepad \t Price: 50 \t Quantity: 2 \t Tax: 9.0 \t Total: 118.0 \n",
            "\n",
            "After the taxes are applied the total amount is \t 2714.0\n",
            "Item: USB drive \t Price: 70 \t Quantity: 1 \t Tax: 12.6 \t Total: 82.6 \n",
            "\n",
            "After the taxes are applied the total amount is \t 2796.6\n",
            "Item: External drive \t Price: 250 \t Quantity: 1 \t Tax: 45.0 \t Total: 295.0 \n",
            "\n",
            "After the taxes are applied the total amount is \t 3091.6\n",
            "The total amount (incl. taxes) you've paid is 3091.6. You have 1908.4 dollars left\n"
          ]
        }
      ]
    },
    {
      "cell_type": "markdown",
      "source": [
        "## PART 3"
      ],
      "metadata": {
        "id": "P-0Gd0NtxENI"
      }
    },
    {
      "cell_type": "code",
      "source": [
        "import random"
      ],
      "metadata": {
        "id": "pm6rR2_KxHcK"
      },
      "execution_count": 297,
      "outputs": []
    },
    {
      "cell_type": "code",
      "source": [
        "action_list =['rock','papper','scissors']"
      ],
      "metadata": {
        "id": "JasmaIqaxMgB"
      },
      "execution_count": 298,
      "outputs": []
    },
    {
      "cell_type": "code",
      "source": [
        "computer_score = 0\n",
        "player_score = 0\n",
        "\n",
        "total_rounds = input('How many rounds do you want to play? Please enter a number here: ')\n",
        "\n",
        "round_counter = 0\n",
        "\n",
        "while True:\n",
        "  round_counter += 1\n",
        "  print(\"Round number: \", round_counter)\n",
        "\n",
        "  computer_choice = random.choice(action_list)\n",
        "  player_choice = input('Please choose your action: ')\n",
        "\n",
        "  print(f\"Computer: {computer_choice} - Player: {player_choice}\")\n",
        "\n",
        "  if computer_choice == player_choice:\n",
        "    print(\"Tie! Both players chose the same action.\")\n",
        "  elif computer_choice == \"papper\":\n",
        "    if player_choice == \"rock\":\n",
        "      print(\"Winner is: Computer\")\n",
        "      computer_score +=1\n",
        "    else:\n",
        "      print(\"Winner is: Player\")\n",
        "      player_score +=1\n",
        "  elif computer_choice == \"rock\":\n",
        "    if player_choice == \"papper\":\n",
        "      print(\"Winner is: Player\")\n",
        "      player_score += 1\n",
        "    else:\n",
        "      print(\"Winner is: Computer\")\n",
        "      computer_score += 1\n",
        "  elif computer_choice == \"scissors\":\n",
        "    if player_choice == \"papper\":\n",
        "      print(\"Winner is: Computer\")\n",
        "      computer_score += 1\n",
        "    else:\n",
        "      print(\"Winner is: Player\")\n",
        "      player_score += 1\n",
        "\n",
        "  if round_counter == int(total_rounds):\n",
        "    break\n",
        "if computer_score == player_score:\n",
        "  print(f\"There is no winner, tie! Computer: {computer_score} - Player: {player_score}\")\n",
        "elif computer_score > player_score:\n",
        "  print(f\"Computer won! Computer: {computer_score} - Player: {player_score}\")\n",
        "elif computer_score < player_score:\n",
        "  print(f\"Player won! Computer: {computer_score} - Player: {player_score}\")\n",
        "\n",
        "\n",
        "\n"
      ],
      "metadata": {
        "colab": {
          "base_uri": "https://localhost:8080/"
        },
        "id": "PPShjGggxUgL",
        "outputId": "4c93ed1c-3418-4511-c7d5-06f8631a474a"
      },
      "execution_count": 299,
      "outputs": [
        {
          "output_type": "stream",
          "name": "stdout",
          "text": [
            "How many rounds do you want to play? Please enter a number here: 2\n",
            "Round number:  1\n",
            "Please choose your action: papper\n",
            "Computer: papper - Player: papper\n",
            "Tie! Both players chose the same action.\n",
            "Round number:  2\n",
            "Please choose your action: rock\n",
            "Computer: rock - Player: rock\n",
            "Tie! Both players chose the same action.\n",
            "There is no winner, tie! Computer: 0 - Player: 0\n"
          ]
        }
      ]
    },
    {
      "cell_type": "markdown",
      "source": [
        "## PART 4"
      ],
      "metadata": {
        "id": "0XZ9c49_2kHQ"
      }
    },
    {
      "cell_type": "code",
      "source": [
        "salesperson_revenue = {\n",
        "    \"Ben\": 0,\n",
        "    \"Omer\": 0,\n",
        "    \"Karen\": 0,\n",
        "    \"Celine\": 0,\n",
        "    \"Sue\": 0,\n",
        "    \"Bora\": 0,\n",
        "    \"Ellen\": 0\n",
        "}"
      ],
      "metadata": {
        "id": "7_3MZiPR2ngY"
      },
      "execution_count": 300,
      "outputs": []
    },
    {
      "cell_type": "code",
      "source": [
        "def enter_revenue(name, revenue):\n",
        "  global salesperson_revenue\n",
        "  salesperson_revenue[name] += revenue"
      ],
      "metadata": {
        "id": "Bhn35kH-3AjZ"
      },
      "execution_count": 301,
      "outputs": []
    },
    {
      "cell_type": "code",
      "source": [
        "while True:\n",
        "  name = input(\"Employee name: \")\n",
        "\n",
        "  if name == \"quit\":\n",
        "    break\n",
        "\n",
        "  revenue = int(input(\"Enter revenue: \"))\n",
        "  enter_revenue(name, revenue)\n",
        "  print(f\"{name}'s revenue is {salesperson_revenue[name]}\")"
      ],
      "metadata": {
        "colab": {
          "base_uri": "https://localhost:8080/"
        },
        "id": "byu0I7DE3JsJ",
        "outputId": "504b4a04-ed9a-45b6-f3e4-8bae0a5826ab"
      },
      "execution_count": 302,
      "outputs": [
        {
          "name": "stdout",
          "output_type": "stream",
          "text": [
            "Employee name: Ben\n",
            "Enter revenue: 10\n",
            "Ben's revenue is 10\n",
            "Employee name: Ben\n",
            "Enter revenue: 10\n",
            "Ben's revenue is 20\n",
            "Employee name: quit\n"
          ]
        }
      ]
    },
    {
      "cell_type": "code",
      "source": [
        "print(salesperson_revenue)"
      ],
      "metadata": {
        "colab": {
          "base_uri": "https://localhost:8080/"
        },
        "id": "Lbp4WHyi3u7k",
        "outputId": "2e22082d-59f4-45f0-dc6f-d4fd4e56eb8e"
      },
      "execution_count": 303,
      "outputs": [
        {
          "output_type": "stream",
          "name": "stdout",
          "text": [
            "{'Ben': 20, 'Omer': 0, 'Karen': 0, 'Celine': 0, 'Sue': 0, 'Bora': 0, 'Ellen': 0}\n"
          ]
        }
      ]
    }
  ]
}