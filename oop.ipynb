{
  "nbformat": 4,
  "nbformat_minor": 0,
  "metadata": {
    "colab": {
      "provenance": [],
      "authorship_tag": "ABX9TyNRi9/kzjazzAIxt7y5qVfB"
    },
    "kernelspec": {
      "name": "python3",
      "display_name": "Python 3"
    },
    "language_info": {
      "name": "python"
    }
  },
  "cells": [
    {
      "cell_type": "markdown",
      "source": [
        "# Object Oriented Programming with Python\n"
      ],
      "metadata": {
        "id": "zm4NccWLCPEJ"
      }
    },
    {
      "cell_type": "code",
      "execution_count": 5,
      "metadata": {
        "id": "wdmkjMAFB9Xd"
      },
      "outputs": [],
      "source": [
        "class Employee():\n",
        "  def __init__(self, employee_name, department, starting_year, salary):\n",
        "    self.employee_name = employee_name\n",
        "    self.department = department\n",
        "    self.starting_year = starting_year\n",
        "    self.salary = salary"
      ]
    },
    {
      "cell_type": "code",
      "source": [
        "employee_1 = Employee(\"Ben\", \"sales\", 2020, 5000)\n",
        "employee_2 = Employee(\"Celine\", \"marketing\", 2022, 6000)"
      ],
      "metadata": {
        "id": "3eLenaWYCN45"
      },
      "execution_count": 13,
      "outputs": []
    },
    {
      "cell_type": "code",
      "source": [
        "print(employee_1.employee_name)\n",
        "print(employee_1.department)\n",
        "print(employee_1.starting_year)\n",
        "print(employee_1.salary)\n",
        "print(\"-------------\")\n",
        "print(employee_2.employee_name)\n",
        "print(employee_2.department)\n",
        "print(employee_2.starting_year)\n",
        "print(employee_2.salary)"
      ],
      "metadata": {
        "colab": {
          "base_uri": "https://localhost:8080/"
        },
        "id": "rbZMxbwzCrvq",
        "outputId": "2e5021b5-a740-4217-e91c-9b200229d49e"
      },
      "execution_count": 14,
      "outputs": [
        {
          "output_type": "stream",
          "name": "stdout",
          "text": [
            "Ben\n",
            "sales\n",
            "2020\n",
            "5000\n",
            "-------------\n",
            "Celine\n",
            "marketing\n",
            "2022\n",
            "6000\n"
          ]
        }
      ]
    }
  ]
}