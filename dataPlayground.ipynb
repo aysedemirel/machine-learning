{
  "nbformat": 4,
  "nbformat_minor": 0,
  "metadata": {
    "colab": {
      "provenance": [],
      "collapsed_sections": [
        "Cm8l0GRZcKtH"
      ],
      "authorship_tag": "ABX9TyNa29RvO/iOGNFebCK23k8i"
    },
    "kernelspec": {
      "name": "python3",
      "display_name": "Python 3"
    },
    "language_info": {
      "name": "python"
    }
  },
  "cells": [
    {
      "cell_type": "markdown",
      "source": [
        "# Preparing Data"
      ],
      "metadata": {
        "id": "Cm8l0GRZcKtH"
      }
    },
    {
      "cell_type": "markdown",
      "source": [
        "Use the .read() method to open the text file in read mode and assign it to the variable 'data'"
      ],
      "metadata": {
        "id": "CLyV4RYcb_b8"
      }
    },
    {
      "cell_type": "code",
      "execution_count": null,
      "metadata": {
        "colab": {
          "base_uri": "https://localhost:8080/"
        },
        "id": "C2Uh-5O4Uej-",
        "outputId": "6cd1f4d7-b3fd-439f-af45-16fb772fc3f8"
      },
      "outputs": [
        {
          "output_type": "stream",
          "name": "stdout",
          "text": [
            "[\n",
            "  {\"Series\":\"I\", \"X\":10.0, \"Y\":8.04},\n",
            "  {\"Series\":\"I\", \"X\":8.0, \"Y\":6.95},\n",
            "  {\"Series\":\"I\", \"X\":13.0, \"Y\":7.58},\n",
            "  {\"Series\":\"I\", \"X\":9.0, \"Y\":8.81},\n",
            "  {\"Series\":\"I\", \"X\":11.0, \"Y\":8.33},\n",
            "  {\"Series\":\"I\", \"X\":14.0, \"Y\":9.96},\n",
            "  {\"Series\":\"I\", \"X\":6.0, \"Y\":7.24},\n",
            "  {\"Series\":\"I\", \"X\":4.0, \"Y\":4.26},\n",
            "  {\"Series\":\"I\", \"X\":12.0, \"Y\":10.84},\n",
            "  {\"Series\":\"I\", \"X\":7.0, \"Y\":4.81},\n",
            "  {\"Series\":\"I\", \"X\":5.0, \"Y\":5.68},\n",
            "\n",
            "  {\"Series\":\"II\", \"X\":10.0, \"Y\":9.14},\n",
            "  {\"Series\":\"II\", \"X\":8.0, \"Y\":8.14},\n",
            "  {\"Series\":\"II\", \"X\":13.0, \"Y\":8.74},\n",
            "  {\"Series\":\"II\", \"X\":9.0, \"Y\":8.77},\n",
            "  {\"Series\":\"II\", \"X\":11.0, \"Y\":9.26},\n",
            "  {\"Series\":\"II\", \"X\":14.0, \"Y\":8.10},\n",
            "  {\"Series\":\"II\", \"X\":6.0, \"Y\":6.13},\n",
            "  {\"Series\":\"II\", \"X\":4.0, \"Y\":3.10},\n",
            "  {\"Series\":\"II\", \"X\":12.0, \"Y\":9.13},\n",
            "  {\"Series\":\"II\", \"X\":7.0, \"Y\":7.26},\n",
            "  {\"Series\":\"II\", \"X\":5.0, \"Y\":4.74},\n",
            "\n",
            "  {\"Series\":\"III\", \"X\":10.0, \"Y\":7.46},\n",
            "  {\"Series\":\"III\", \"X\":8.0, \"Y\":6.77},\n",
            "  {\"Series\":\"III\", \"X\":13.0, \"Y\":12.74},\n",
            "  {\"Series\":\"III\", \"X\":9.0, \"Y\":7.11},\n",
            "  {\"Series\":\"III\", \"X\":11.0, \"Y\":7.81},\n",
            "  {\"Series\":\"III\", \"X\":14.0, \"Y\":8.84},\n",
            "  {\"Series\":\"III\", \"X\":6.0, \"Y\":6.08},\n",
            "  {\"Series\":\"III\", \"X\":4.0, \"Y\":5.39},\n",
            "  {\"Series\":\"III\", \"X\":12.0, \"Y\":8.15},\n",
            "  {\"Series\":\"III\", \"X\":7.0, \"Y\":6.42},\n",
            "  {\"Series\":\"III\", \"X\":5.0, \"Y\":5.73},\n",
            "\n",
            "  {\"Series\":\"IV\", \"X\":8.0, \"Y\":6.58},\n",
            "  {\"Series\":\"IV\", \"X\":8.0, \"Y\":5.76},\n",
            "  {\"Series\":\"IV\", \"X\":8.0, \"Y\":7.71},\n",
            "  {\"Series\":\"IV\", \"X\":8.0, \"Y\":8.84},\n",
            "  {\"Series\":\"IV\", \"X\":8.0, \"Y\":8.47},\n",
            "  {\"Series\":\"IV\", \"X\":8.0, \"Y\":7.04},\n",
            "  {\"Series\":\"IV\", \"X\":8.0, \"Y\":5.25},\n",
            "  {\"Series\":\"IV\", \"X\":19.0, \"Y\":12.50},\n",
            "  {\"Series\":\"IV\", \"X\":8.0, \"Y\":5.56},\n",
            "  {\"Series\":\"IV\", \"X\":8.0, \"Y\":7.91},\n",
            "  {\"Series\":\"IV\", \"X\":8.0, \"Y\":6.89}\n",
            "]\n",
            "\n"
          ]
        }
      ],
      "source": [
        "file = open(\"/content/sample_data/anscombe.json\", \"r\")\n",
        "data = file.read()\n",
        "print(data)"
      ]
    },
    {
      "cell_type": "markdown",
      "source": [
        "To be able to clean the data, you need to seperate the text into lines.\n",
        "\n",
        "Use the .splitlines() method."
      ],
      "metadata": {
        "id": "8DMyER_QcQTh"
      }
    },
    {
      "cell_type": "code",
      "source": [
        "lines = data.splitlines()\n",
        "print(lines)"
      ],
      "metadata": {
        "colab": {
          "base_uri": "https://localhost:8080/"
        },
        "id": "btasq9BRbT7K",
        "outputId": "bbacdf7e-3624-4de5-b094-64a9f6ff4b75"
      },
      "execution_count": null,
      "outputs": [
        {
          "output_type": "stream",
          "name": "stdout",
          "text": [
            "['[', '  {\"Series\":\"I\", \"X\":10.0, \"Y\":8.04},', '  {\"Series\":\"I\", \"X\":8.0, \"Y\":6.95},', '  {\"Series\":\"I\", \"X\":13.0, \"Y\":7.58},', '  {\"Series\":\"I\", \"X\":9.0, \"Y\":8.81},', '  {\"Series\":\"I\", \"X\":11.0, \"Y\":8.33},', '  {\"Series\":\"I\", \"X\":14.0, \"Y\":9.96},', '  {\"Series\":\"I\", \"X\":6.0, \"Y\":7.24},', '  {\"Series\":\"I\", \"X\":4.0, \"Y\":4.26},', '  {\"Series\":\"I\", \"X\":12.0, \"Y\":10.84},', '  {\"Series\":\"I\", \"X\":7.0, \"Y\":4.81},', '  {\"Series\":\"I\", \"X\":5.0, \"Y\":5.68},', '', '  {\"Series\":\"II\", \"X\":10.0, \"Y\":9.14},', '  {\"Series\":\"II\", \"X\":8.0, \"Y\":8.14},', '  {\"Series\":\"II\", \"X\":13.0, \"Y\":8.74},', '  {\"Series\":\"II\", \"X\":9.0, \"Y\":8.77},', '  {\"Series\":\"II\", \"X\":11.0, \"Y\":9.26},', '  {\"Series\":\"II\", \"X\":14.0, \"Y\":8.10},', '  {\"Series\":\"II\", \"X\":6.0, \"Y\":6.13},', '  {\"Series\":\"II\", \"X\":4.0, \"Y\":3.10},', '  {\"Series\":\"II\", \"X\":12.0, \"Y\":9.13},', '  {\"Series\":\"II\", \"X\":7.0, \"Y\":7.26},', '  {\"Series\":\"II\", \"X\":5.0, \"Y\":4.74},', '', '  {\"Series\":\"III\", \"X\":10.0, \"Y\":7.46},', '  {\"Series\":\"III\", \"X\":8.0, \"Y\":6.77},', '  {\"Series\":\"III\", \"X\":13.0, \"Y\":12.74},', '  {\"Series\":\"III\", \"X\":9.0, \"Y\":7.11},', '  {\"Series\":\"III\", \"X\":11.0, \"Y\":7.81},', '  {\"Series\":\"III\", \"X\":14.0, \"Y\":8.84},', '  {\"Series\":\"III\", \"X\":6.0, \"Y\":6.08},', '  {\"Series\":\"III\", \"X\":4.0, \"Y\":5.39},', '  {\"Series\":\"III\", \"X\":12.0, \"Y\":8.15},', '  {\"Series\":\"III\", \"X\":7.0, \"Y\":6.42},', '  {\"Series\":\"III\", \"X\":5.0, \"Y\":5.73},', '', '  {\"Series\":\"IV\", \"X\":8.0, \"Y\":6.58},', '  {\"Series\":\"IV\", \"X\":8.0, \"Y\":5.76},', '  {\"Series\":\"IV\", \"X\":8.0, \"Y\":7.71},', '  {\"Series\":\"IV\", \"X\":8.0, \"Y\":8.84},', '  {\"Series\":\"IV\", \"X\":8.0, \"Y\":8.47},', '  {\"Series\":\"IV\", \"X\":8.0, \"Y\":7.04},', '  {\"Series\":\"IV\", \"X\":8.0, \"Y\":5.25},', '  {\"Series\":\"IV\", \"X\":19.0, \"Y\":12.50},', '  {\"Series\":\"IV\", \"X\":8.0, \"Y\":5.56},', '  {\"Series\":\"IV\", \"X\":8.0, \"Y\":7.91},', '  {\"Series\":\"IV\", \"X\":8.0, \"Y\":6.89}', ']']\n"
          ]
        }
      ]
    },
    {
      "cell_type": "code",
      "source": [
        "row = lines[1]\n",
        "print(row)"
      ],
      "metadata": {
        "colab": {
          "base_uri": "https://localhost:8080/"
        },
        "id": "9Cc6GwSVbeG-",
        "outputId": "b9c1eed3-7477-42f8-a102-4d942d14cde1"
      },
      "execution_count": null,
      "outputs": [
        {
          "output_type": "stream",
          "name": "stdout",
          "text": [
            "  {\"Series\":\"I\", \"X\":10.0, \"Y\":8.04},\n"
          ]
        }
      ]
    },
    {
      "cell_type": "markdown",
      "source": [
        "Use the .strip() method to remove the whitespaces from the edge of the string."
      ],
      "metadata": {
        "id": "HgqpuUHXbxI_"
      }
    },
    {
      "cell_type": "code",
      "source": [
        "row = row.strip(\" \")\n",
        "print(row)"
      ],
      "metadata": {
        "colab": {
          "base_uri": "https://localhost:8080/"
        },
        "id": "rs9I9Ds-bnno",
        "outputId": "9f9c90fa-a492-47bd-d977-85c72915aa53"
      },
      "execution_count": null,
      "outputs": [
        {
          "output_type": "stream",
          "name": "stdout",
          "text": [
            "{\"Series\":\"I\", \"X\":10.0, \"Y\":8.04},\n"
          ]
        }
      ]
    },
    {
      "cell_type": "markdown",
      "source": [
        "Use the .lower() method to convert the text to lowercase\n",
        "\n",
        "Use the .capitalize() method to capitalize the first letter"
      ],
      "metadata": {
        "id": "Wx3ZbDzZclaU"
      }
    },
    {
      "cell_type": "code",
      "source": [
        "row = row.lower()\n",
        "print(row)"
      ],
      "metadata": {
        "colab": {
          "base_uri": "https://localhost:8080/"
        },
        "id": "qUpHmgO-b6rk",
        "outputId": "c92011b0-ee1d-474e-ef7b-6301cd150e7d"
      },
      "execution_count": null,
      "outputs": [
        {
          "output_type": "stream",
          "name": "stdout",
          "text": [
            "{\"series\":\"i\", \"x\":10.0, \"y\":8.04},\n"
          ]
        }
      ]
    },
    {
      "cell_type": "code",
      "source": [
        "row = row.removeprefix(\"{\")\n",
        "row = row.removesuffix(\"},\")\n",
        "row = row.replace('\"',\"\")\n",
        "print(row)"
      ],
      "metadata": {
        "colab": {
          "base_uri": "https://localhost:8080/"
        },
        "id": "gz67oCPvdDsX",
        "outputId": "49b2ce88-6d08-4afc-914c-e8315f2bbedf"
      },
      "execution_count": null,
      "outputs": [
        {
          "output_type": "stream",
          "name": "stdout",
          "text": [
            "series:i, x:10.0, y:8.04\n"
          ]
        }
      ]
    },
    {
      "cell_type": "markdown",
      "source": [
        "To extract the information, you need to split the sentence into words\n",
        "\n",
        "Use the .split() method."
      ],
      "metadata": {
        "id": "vxpp1HRydSm5"
      }
    },
    {
      "cell_type": "code",
      "source": [
        "split_row = row.split(\",\")\n",
        "print(split_row)"
      ],
      "metadata": {
        "colab": {
          "base_uri": "https://localhost:8080/"
        },
        "id": "5APJ1Kk4dQ59",
        "outputId": "eda40f21-dd4a-49eb-8ae6-67aa75431daf"
      },
      "execution_count": null,
      "outputs": [
        {
          "output_type": "stream",
          "name": "stdout",
          "text": [
            "['series:i', ' x:10.0', ' y:8.04']\n"
          ]
        }
      ]
    },
    {
      "cell_type": "code",
      "source": [
        "series = split_row[0]\n",
        "print(series)"
      ],
      "metadata": {
        "colab": {
          "base_uri": "https://localhost:8080/"
        },
        "id": "Vzo1grRoeBz0",
        "outputId": "71c12b81-8294-4a67-fb2c-da5ccb0bf082"
      },
      "execution_count": null,
      "outputs": [
        {
          "output_type": "stream",
          "name": "stdout",
          "text": [
            "series:i\n"
          ]
        }
      ]
    },
    {
      "cell_type": "code",
      "source": [
        "series = series.split(\"series:\")[1]\n",
        "print(series)"
      ],
      "metadata": {
        "colab": {
          "base_uri": "https://localhost:8080/"
        },
        "id": "PbIuPcg2hP_u",
        "outputId": "dfe4fdeb-2377-4d33-f16f-44a975720d13"
      },
      "execution_count": null,
      "outputs": [
        {
          "output_type": "stream",
          "name": "stdout",
          "text": [
            "i\n"
          ]
        }
      ]
    },
    {
      "cell_type": "code",
      "source": [
        "x = split_row[1]\n",
        "print(x)"
      ],
      "metadata": {
        "colab": {
          "base_uri": "https://localhost:8080/"
        },
        "id": "bxZqa_AFe38_",
        "outputId": "2a481dc0-f52c-43aa-f25a-66723a196d24"
      },
      "execution_count": null,
      "outputs": [
        {
          "output_type": "stream",
          "name": "stdout",
          "text": [
            " x:10.0\n"
          ]
        }
      ]
    },
    {
      "cell_type": "code",
      "source": [
        "x = x.split(\"x:\")[1]\n",
        "print(x)"
      ],
      "metadata": {
        "colab": {
          "base_uri": "https://localhost:8080/"
        },
        "id": "HiaY5uZghIMz",
        "outputId": "a1ce33ff-43b8-434c-c421-99040807ada2"
      },
      "execution_count": null,
      "outputs": [
        {
          "output_type": "stream",
          "name": "stdout",
          "text": [
            "10.0\n"
          ]
        }
      ]
    },
    {
      "cell_type": "code",
      "source": [
        "for i in split_row:\n",
        "  if \"y:\" in i:\n",
        "    y = i.split(\"y:\")[1]\n",
        "\n",
        "print(y)"
      ],
      "metadata": {
        "colab": {
          "base_uri": "https://localhost:8080/"
        },
        "id": "qAtJF4YhfDyv",
        "outputId": "5381a9a9-9188-480d-ac6c-320aa6bc6a04"
      },
      "execution_count": null,
      "outputs": [
        {
          "output_type": "stream",
          "name": "stdout",
          "text": [
            "8.04\n"
          ]
        }
      ]
    },
    {
      "cell_type": "code",
      "source": [
        "y_index = split_row.index(\" y:8.04\")\n",
        "print(y_index)"
      ],
      "metadata": {
        "colab": {
          "base_uri": "https://localhost:8080/"
        },
        "id": "SyIhhWNSgd2A",
        "outputId": "2152b728-a438-4e8e-84e3-015e0883e1fb"
      },
      "execution_count": null,
      "outputs": [
        {
          "output_type": "stream",
          "name": "stdout",
          "text": [
            "2\n"
          ]
        }
      ]
    },
    {
      "cell_type": "code",
      "source": [
        "print(\"Series: \", series)\n",
        "print(\"x: \", x)\n",
        "print(\"y: \", y)"
      ],
      "metadata": {
        "colab": {
          "base_uri": "https://localhost:8080/"
        },
        "id": "1r5sy-mkhBQw",
        "outputId": "ff13e802-01e2-45df-9815-a2c9e85a8706"
      },
      "execution_count": null,
      "outputs": [
        {
          "output_type": "stream",
          "name": "stdout",
          "text": [
            "Series:  i\n",
            "x:  10.0\n",
            "y:  8.04\n"
          ]
        }
      ]
    },
    {
      "cell_type": "code",
      "source": [
        "print(\"Series type: \", type(series))\n",
        "print(\"x type: \", type(x))\n",
        "print(\"y type: \", type(y))"
      ],
      "metadata": {
        "colab": {
          "base_uri": "https://localhost:8080/"
        },
        "id": "xLNjTaDVhbI0",
        "outputId": "249c9ff4-5593-4230-eee8-d37035dd2b9c"
      },
      "execution_count": null,
      "outputs": [
        {
          "output_type": "stream",
          "name": "stdout",
          "text": [
            "Series type:  <class 'str'>\n",
            "x type:  <class 'str'>\n",
            "y type:  <class 'str'>\n"
          ]
        }
      ]
    },
    {
      "cell_type": "code",
      "source": [
        "x = float(x)\n",
        "y = float(y)"
      ],
      "metadata": {
        "id": "zkP1JCfnhnfF"
      },
      "execution_count": null,
      "outputs": []
    },
    {
      "cell_type": "code",
      "source": [
        "print(\"Series type: \", type(series))\n",
        "print(\"x type: \", type(x))\n",
        "print(\"y type: \", type(y))\n",
        "print(\"\\n\")\n",
        "print(\"Series: \", series)\n",
        "print(\"x: \", x)\n",
        "print(\"y: \", y)"
      ],
      "metadata": {
        "colab": {
          "base_uri": "https://localhost:8080/"
        },
        "id": "YB7xqf4jht_i",
        "outputId": "8a51b54f-8b02-48df-b05e-4c887f0d9c1d"
      },
      "execution_count": null,
      "outputs": [
        {
          "output_type": "stream",
          "name": "stdout",
          "text": [
            "Series type:  <class 'str'>\n",
            "x type:  <class 'float'>\n",
            "y type:  <class 'float'>\n",
            "\n",
            "\n",
            "Series:  i\n",
            "x:  10.0\n",
            "y:  8.04\n"
          ]
        }
      ]
    },
    {
      "cell_type": "code",
      "source": [
        "series_values = []\n",
        "x_values = []\n",
        "y_values = []"
      ],
      "metadata": {
        "id": "xPuwpLXxh7K5"
      },
      "execution_count": null,
      "outputs": []
    },
    {
      "cell_type": "code",
      "source": [
        "def clean_extract(lines):\n",
        "  for values in lines:\n",
        "    values = values.strip(\" \\n\")\n",
        "    values = values.lower()\n",
        "    values = values.removeprefix(\"{\")\n",
        "    values = values.removesuffix(\"},\")\n",
        "    values = values.removesuffix(\"}\")\n",
        "    values = values.replace('\"', \"\")\n",
        "    values = values.replace(\"[\", \"\")\n",
        "    values = values.replace(\"]\", \"\")\n",
        "\n",
        "    if values:\n",
        "      split_values = values.split(\", \")\n",
        "      series = split_values[0].split(\"series:\")[1]\n",
        "      x = float(split_values[1].split(\"x:\")[1])\n",
        "      y = float(split_values[2].split(\"y:\")[1])\n",
        "\n",
        "      series_values.append(series)\n",
        "      x_values.append(x)\n",
        "      y_values.append(y)\n",
        "  return series_values, x_values, y_values"
      ],
      "metadata": {
        "id": "a9IjnJUxiGgw"
      },
      "execution_count": null,
      "outputs": []
    },
    {
      "cell_type": "code",
      "source": [
        "series_values, x_values, y_values = clean_extract(lines)\n",
        "\n",
        "print(\"Series: \", series_values)\n",
        "print(\"x: \", x_values)\n",
        "print(\"y: \",y_values)"
      ],
      "metadata": {
        "colab": {
          "base_uri": "https://localhost:8080/"
        },
        "id": "ZNAj0XF-k1hf",
        "outputId": "afc47374-3367-4b02-ffd2-bf95e30973c9"
      },
      "execution_count": null,
      "outputs": [
        {
          "output_type": "stream",
          "name": "stdout",
          "text": [
            "Series:  ['i', 'i', 'i', 'i', 'i', 'i', 'i', 'i', 'i', 'i', 'i', 'ii', 'ii', 'ii', 'ii', 'ii', 'ii', 'ii', 'ii', 'ii', 'ii', 'ii', 'iii', 'iii', 'iii', 'iii', 'iii', 'iii', 'iii', 'iii', 'iii', 'iii', 'iii', 'iv', 'iv', 'iv', 'iv', 'iv', 'iv', 'iv', 'iv', 'iv', 'iv', 'iv', 'i', 'i', 'i', 'i', 'i', 'i', 'i', 'i', 'i', 'i', 'i', 'ii', 'ii', 'ii', 'ii', 'ii', 'ii', 'ii', 'ii', 'ii', 'ii', 'ii', 'iii', 'iii', 'iii', 'iii', 'iii', 'iii', 'iii', 'iii', 'iii', 'iii', 'iii', 'iv', 'iv', 'iv', 'iv', 'iv', 'iv', 'iv', 'iv', 'iv', 'iv', 'iv']\n",
            "x:  [10.0, 8.0, 13.0, 9.0, 11.0, 14.0, 6.0, 4.0, 12.0, 7.0, 5.0, 10.0, 8.0, 13.0, 9.0, 11.0, 14.0, 6.0, 4.0, 12.0, 7.0, 5.0, 10.0, 8.0, 13.0, 9.0, 11.0, 14.0, 6.0, 4.0, 12.0, 7.0, 5.0, 8.0, 8.0, 8.0, 8.0, 8.0, 8.0, 8.0, 19.0, 8.0, 8.0, 8.0, 10.0, 8.0, 13.0, 9.0, 11.0, 14.0, 6.0, 4.0, 12.0, 7.0, 5.0, 10.0, 8.0, 13.0, 9.0, 11.0, 14.0, 6.0, 4.0, 12.0, 7.0, 5.0, 10.0, 8.0, 13.0, 9.0, 11.0, 14.0, 6.0, 4.0, 12.0, 7.0, 5.0, 8.0, 8.0, 8.0, 8.0, 8.0, 8.0, 8.0, 19.0, 8.0, 8.0, 8.0]\n",
            "y:  [8.04, 6.95, 7.58, 8.81, 8.33, 9.96, 7.24, 4.26, 10.84, 4.81, 5.68, 9.14, 8.14, 8.74, 8.77, 9.26, 8.1, 6.13, 3.1, 9.13, 7.26, 4.74, 7.46, 6.77, 12.74, 7.11, 7.81, 8.84, 6.08, 5.39, 8.15, 6.42, 5.73, 6.58, 5.76, 7.71, 8.84, 8.47, 7.04, 5.25, 12.5, 5.56, 7.91, 6.89, 8.04, 6.95, 7.58, 8.81, 8.33, 9.96, 7.24, 4.26, 10.84, 4.81, 5.68, 9.14, 8.14, 8.74, 8.77, 9.26, 8.1, 6.13, 3.1, 9.13, 7.26, 4.74, 7.46, 6.77, 12.74, 7.11, 7.81, 8.84, 6.08, 5.39, 8.15, 6.42, 5.73, 6.58, 5.76, 7.71, 8.84, 8.47, 7.04, 5.25, 12.5, 5.56, 7.91, 6.89]\n"
          ]
        }
      ]
    },
    {
      "cell_type": "code",
      "source": [
        "print(len(series_values))"
      ],
      "metadata": {
        "colab": {
          "base_uri": "https://localhost:8080/"
        },
        "id": "QRwR3HAFnDC2",
        "outputId": "50b5fd10-4f25-4a59-94c8-42b51de3610f"
      },
      "execution_count": null,
      "outputs": [
        {
          "output_type": "stream",
          "name": "stdout",
          "text": [
            "88\n"
          ]
        }
      ]
    },
    {
      "cell_type": "code",
      "source": [
        "IDs = list(range(0,88))\n",
        "print(IDs)\n",
        "print(len(IDs))"
      ],
      "metadata": {
        "colab": {
          "base_uri": "https://localhost:8080/"
        },
        "id": "2fVFJzALnH5d",
        "outputId": "ff5042b9-6579-4412-f264-589c1542d240"
      },
      "execution_count": null,
      "outputs": [
        {
          "output_type": "stream",
          "name": "stdout",
          "text": [
            "[0, 1, 2, 3, 4, 5, 6, 7, 8, 9, 10, 11, 12, 13, 14, 15, 16, 17, 18, 19, 20, 21, 22, 23, 24, 25, 26, 27, 28, 29, 30, 31, 32, 33, 34, 35, 36, 37, 38, 39, 40, 41, 42, 43, 44, 45, 46, 47, 48, 49, 50, 51, 52, 53, 54, 55, 56, 57, 58, 59, 60, 61, 62, 63, 64, 65, 66, 67, 68, 69, 70, 71, 72, 73, 74, 75, 76, 77, 78, 79, 80, 81, 82, 83, 84, 85, 86, 87]\n",
            "88\n"
          ]
        }
      ]
    },
    {
      "cell_type": "code",
      "source": [
        "dictionary1 = dict(zip(IDs, series_values))\n",
        "print(dictionary1)"
      ],
      "metadata": {
        "colab": {
          "base_uri": "https://localhost:8080/"
        },
        "id": "nvP_UAoMnaaK",
        "outputId": "5c470b1f-e374-490b-97c7-1d2ee0ce2a42"
      },
      "execution_count": null,
      "outputs": [
        {
          "output_type": "stream",
          "name": "stdout",
          "text": [
            "{0: 'i', 1: 'i', 2: 'i', 3: 'i', 4: 'i', 5: 'i', 6: 'i', 7: 'i', 8: 'i', 9: 'i', 10: 'i', 11: 'ii', 12: 'ii', 13: 'ii', 14: 'ii', 15: 'ii', 16: 'ii', 17: 'ii', 18: 'ii', 19: 'ii', 20: 'ii', 21: 'ii', 22: 'iii', 23: 'iii', 24: 'iii', 25: 'iii', 26: 'iii', 27: 'iii', 28: 'iii', 29: 'iii', 30: 'iii', 31: 'iii', 32: 'iii', 33: 'iv', 34: 'iv', 35: 'iv', 36: 'iv', 37: 'iv', 38: 'iv', 39: 'iv', 40: 'iv', 41: 'iv', 42: 'iv', 43: 'iv', 44: 'i', 45: 'i', 46: 'i', 47: 'i', 48: 'i', 49: 'i', 50: 'i', 51: 'i', 52: 'i', 53: 'i', 54: 'i', 55: 'ii', 56: 'ii', 57: 'ii', 58: 'ii', 59: 'ii', 60: 'ii', 61: 'ii', 62: 'ii', 63: 'ii', 64: 'ii', 65: 'ii', 66: 'iii', 67: 'iii', 68: 'iii', 69: 'iii', 70: 'iii', 71: 'iii', 72: 'iii', 73: 'iii', 74: 'iii', 75: 'iii', 76: 'iii', 77: 'iv', 78: 'iv', 79: 'iv', 80: 'iv', 81: 'iv', 82: 'iv', 83: 'iv', 84: 'iv', 85: 'iv', 86: 'iv', 87: 'iv'}\n"
          ]
        }
      ]
    },
    {
      "cell_type": "code",
      "source": [
        "dictionary2 = dict(zip(x_values, y_values))\n",
        "print(dictionary2)"
      ],
      "metadata": {
        "colab": {
          "base_uri": "https://localhost:8080/"
        },
        "id": "YKEKi5Znnopo",
        "outputId": "b5ac8646-4b80-4144-882d-5fa19f348fb9"
      },
      "execution_count": null,
      "outputs": [
        {
          "output_type": "stream",
          "name": "stdout",
          "text": [
            "{10.0: 7.46, 8.0: 6.89, 13.0: 12.74, 9.0: 7.11, 11.0: 7.81, 14.0: 8.84, 6.0: 6.08, 4.0: 5.39, 12.0: 8.15, 7.0: 6.42, 5.0: 5.73, 19.0: 12.5}\n"
          ]
        }
      ]
    },
    {
      "cell_type": "code",
      "source": [
        "sorted_dictionary = sorted(dictionary2)[0:3]\n",
        "\n",
        "print(sorted_dictionary)\n",
        "\n",
        "for i in sorted_dictionary:\n",
        "  print(dictionary2[i])"
      ],
      "metadata": {
        "colab": {
          "base_uri": "https://localhost:8080/"
        },
        "id": "P5mUDacLnsiD",
        "outputId": "16efa4dc-7232-4f88-df5c-476f8ee4b019"
      },
      "execution_count": null,
      "outputs": [
        {
          "output_type": "stream",
          "name": "stdout",
          "text": [
            "[4.0, 5.0, 6.0]\n",
            "5.39\n",
            "5.73\n",
            "6.08\n"
          ]
        }
      ]
    },
    {
      "cell_type": "code",
      "source": [
        "sorted_dictionary = sorted(dictionary2, reverse=True)[0:3]\n",
        "print(sorted_dictionary)\n",
        "\n",
        "for i in sorted_dictionary:\n",
        "  print(dictionary2[i])"
      ],
      "metadata": {
        "colab": {
          "base_uri": "https://localhost:8080/"
        },
        "id": "JAafENGdoLnr",
        "outputId": "4a25f19b-ea38-4791-af34-eb66316115c1"
      },
      "execution_count": null,
      "outputs": [
        {
          "output_type": "stream",
          "name": "stdout",
          "text": [
            "[19.0, 14.0, 13.0]\n",
            "12.5\n",
            "8.84\n",
            "12.74\n"
          ]
        }
      ]
    },
    {
      "cell_type": "markdown",
      "source": [
        "# Processing Data"
      ],
      "metadata": {
        "id": "ADxsw7Zzo7Ow"
      }
    },
    {
      "cell_type": "code",
      "source": [
        "import numpy as np"
      ],
      "metadata": {
        "id": "ZWljKL2so85p"
      },
      "execution_count": 132,
      "outputs": []
    },
    {
      "cell_type": "code",
      "source": [
        "data = np.array([], dtype=int)"
      ],
      "metadata": {
        "id": "wxCOY1LsuJVV"
      },
      "execution_count": 155,
      "outputs": []
    },
    {
      "cell_type": "code",
      "source": [
        "def append_x_values(x_list):\n",
        "  global data\n",
        "  print(x_list)\n",
        "  for i in x_list:\n",
        "    data = np.append(data, x_values.index(i))"
      ],
      "metadata": {
        "id": "vc0lJ9ZwuVBP"
      },
      "execution_count": 156,
      "outputs": []
    },
    {
      "cell_type": "code",
      "source": [
        "def append_performance_measures(feature_list):\n",
        "  global data\n",
        "  data = np.append(data, feature_list)"
      ],
      "metadata": {
        "id": "MK_Qz_3_up6x"
      },
      "execution_count": 157,
      "outputs": []
    },
    {
      "cell_type": "code",
      "source": [
        "append_x_values(x_values)\n",
        "append_performance_measures(y_values)\n",
        "\n",
        "print(data)\n",
        "print(data.shape)"
      ],
      "metadata": {
        "colab": {
          "base_uri": "https://localhost:8080/"
        },
        "id": "RF6FyEh3u8Yf",
        "outputId": "9a48e250-e223-4d65-9d1c-ef96e04dd2e4"
      },
      "execution_count": 158,
      "outputs": [
        {
          "output_type": "stream",
          "name": "stdout",
          "text": [
            "[10.0, 8.0, 13.0, 9.0, 11.0, 14.0, 6.0, 4.0, 12.0, 7.0, 5.0, 10.0, 8.0, 13.0, 9.0, 11.0, 14.0, 6.0, 4.0, 12.0, 7.0, 5.0, 10.0, 8.0, 13.0, 9.0, 11.0, 14.0, 6.0, 4.0, 12.0, 7.0, 5.0, 8.0, 8.0, 8.0, 8.0, 8.0, 8.0, 8.0, 19.0, 8.0, 8.0, 8.0, 10.0, 8.0, 13.0, 9.0, 11.0, 14.0, 6.0, 4.0, 12.0, 7.0, 5.0, 10.0, 8.0, 13.0, 9.0, 11.0, 14.0, 6.0, 4.0, 12.0, 7.0, 5.0, 10.0, 8.0, 13.0, 9.0, 11.0, 14.0, 6.0, 4.0, 12.0, 7.0, 5.0, 8.0, 8.0, 8.0, 8.0, 8.0, 8.0, 8.0, 19.0, 8.0, 8.0, 8.0]\n",
            "[ 0.    1.    2.    3.    4.    5.    6.    7.    8.    9.   10.    0.\n",
            "  1.    2.    3.    4.    5.    6.    7.    8.    9.   10.    0.    1.\n",
            "  2.    3.    4.    5.    6.    7.    8.    9.   10.    1.    1.    1.\n",
            "  1.    1.    1.    1.   40.    1.    1.    1.    0.    1.    2.    3.\n",
            "  4.    5.    6.    7.    8.    9.   10.    0.    1.    2.    3.    4.\n",
            "  5.    6.    7.    8.    9.   10.    0.    1.    2.    3.    4.    5.\n",
            "  6.    7.    8.    9.   10.    1.    1.    1.    1.    1.    1.    1.\n",
            " 40.    1.    1.    1.    8.04  6.95  7.58  8.81  8.33  9.96  7.24  4.26\n",
            " 10.84  4.81  5.68  9.14  8.14  8.74  8.77  9.26  8.1   6.13  3.1   9.13\n",
            "  7.26  4.74  7.46  6.77 12.74  7.11  7.81  8.84  6.08  5.39  8.15  6.42\n",
            "  5.73  6.58  5.76  7.71  8.84  8.47  7.04  5.25 12.5   5.56  7.91  6.89\n",
            "  8.04  6.95  7.58  8.81  8.33  9.96  7.24  4.26 10.84  4.81  5.68  9.14\n",
            "  8.14  8.74  8.77  9.26  8.1   6.13  3.1   9.13  7.26  4.74  7.46  6.77\n",
            " 12.74  7.11  7.81  8.84  6.08  5.39  8.15  6.42  5.73  6.58  5.76  7.71\n",
            "  8.84  8.47  7.04  5.25 12.5   5.56  7.91  6.89]\n",
            "(176,)\n"
          ]
        }
      ]
    },
    {
      "cell_type": "code",
      "source": [
        "data = data.reshape(4,44)\n",
        "\n",
        "print(data)\n",
        "print(data.shape)"
      ],
      "metadata": {
        "colab": {
          "base_uri": "https://localhost:8080/"
        },
        "id": "zVZfAgglwIEH",
        "outputId": "8db7f40e-4100-4336-d7a6-efa9bae63708"
      },
      "execution_count": 162,
      "outputs": [
        {
          "output_type": "stream",
          "name": "stdout",
          "text": [
            "[[ 0.    1.    2.    3.    4.    5.    6.    7.    8.    9.   10.    0.\n",
            "   1.    2.    3.    4.    5.    6.    7.    8.    9.   10.    0.    1.\n",
            "   2.    3.    4.    5.    6.    7.    8.    9.   10.    1.    1.    1.\n",
            "   1.    1.    1.    1.   40.    1.    1.    1.  ]\n",
            " [ 0.    1.    2.    3.    4.    5.    6.    7.    8.    9.   10.    0.\n",
            "   1.    2.    3.    4.    5.    6.    7.    8.    9.   10.    0.    1.\n",
            "   2.    3.    4.    5.    6.    7.    8.    9.   10.    1.    1.    1.\n",
            "   1.    1.    1.    1.   40.    1.    1.    1.  ]\n",
            " [ 8.04  6.95  7.58  8.81  8.33  9.96  7.24  4.26 10.84  4.81  5.68  9.14\n",
            "   8.14  8.74  8.77  9.26  8.1   6.13  3.1   9.13  7.26  4.74  7.46  6.77\n",
            "  12.74  7.11  7.81  8.84  6.08  5.39  8.15  6.42  5.73  6.58  5.76  7.71\n",
            "   8.84  8.47  7.04  5.25 12.5   5.56  7.91  6.89]\n",
            " [ 8.04  6.95  7.58  8.81  8.33  9.96  7.24  4.26 10.84  4.81  5.68  9.14\n",
            "   8.14  8.74  8.77  9.26  8.1   6.13  3.1   9.13  7.26  4.74  7.46  6.77\n",
            "  12.74  7.11  7.81  8.84  6.08  5.39  8.15  6.42  5.73  6.58  5.76  7.71\n",
            "   8.84  8.47  7.04  5.25 12.5   5.56  7.91  6.89]]\n",
            "(4, 44)\n"
          ]
        }
      ]
    },
    {
      "cell_type": "code",
      "source": [
        "print(data[0])"
      ],
      "metadata": {
        "colab": {
          "base_uri": "https://localhost:8080/"
        },
        "id": "3KDuemgVwt0F",
        "outputId": "e974a3f0-3770-47aa-8263-b43ed29e3400"
      },
      "execution_count": 163,
      "outputs": [
        {
          "output_type": "stream",
          "name": "stdout",
          "text": [
            "[ 0.  1.  2.  3.  4.  5.  6.  7.  8.  9. 10.  0.  1.  2.  3.  4.  5.  6.\n",
            "  7.  8.  9. 10.  0.  1.  2.  3.  4.  5.  6.  7.  8.  9. 10.  1.  1.  1.\n",
            "  1.  1.  1.  1. 40.  1.  1.  1.]\n"
          ]
        }
      ]
    },
    {
      "cell_type": "code",
      "source": [
        "print(data[3,7])"
      ],
      "metadata": {
        "colab": {
          "base_uri": "https://localhost:8080/"
        },
        "id": "YJs3Z9Mtw0gm",
        "outputId": "9e535c00-1c9c-498d-fbdb-cbded4e9d6df"
      },
      "execution_count": 173,
      "outputs": [
        {
          "output_type": "stream",
          "name": "stdout",
          "text": [
            "4.26\n"
          ]
        }
      ]
    },
    {
      "cell_type": "code",
      "source": [
        "def calculate_performance(serie):\n",
        "  idx = series_values.index(serie)\n",
        "  x = data[1,idx]\n",
        "  y = data[2,idx]\n",
        "\n",
        "  score = x+y\n",
        "\n",
        "  return score"
      ],
      "metadata": {
        "id": "cl2rMQMIw8xf"
      },
      "execution_count": 180,
      "outputs": []
    },
    {
      "cell_type": "code",
      "source": [
        "print(calculate_performance(series_values[80]))"
      ],
      "metadata": {
        "colab": {
          "base_uri": "https://localhost:8080/"
        },
        "id": "AFjgGTmmxRN0",
        "outputId": "d173b502-4eb6-43f6-edee-0469ac6cfe92"
      },
      "execution_count": 186,
      "outputs": [
        {
          "output_type": "stream",
          "name": "stdout",
          "text": [
            "7.58\n"
          ]
        }
      ]
    },
    {
      "cell_type": "code",
      "source": [
        "performance_scores = []\n",
        "\n",
        "for serie in series_values:\n",
        "  score = int(calculate_performance(serie))\n",
        "  performance_scores.append(score)\n",
        "\n",
        "print(performance_scores)"
      ],
      "metadata": {
        "colab": {
          "base_uri": "https://localhost:8080/"
        },
        "id": "MDmldNJExx41",
        "outputId": "47d11e5b-425f-44f2-de8a-c81c448e39ef"
      },
      "execution_count": 194,
      "outputs": [
        {
          "output_type": "stream",
          "name": "stdout",
          "text": [
            "[8, 8, 8, 8, 8, 8, 8, 8, 8, 8, 8, 9, 9, 9, 9, 9, 9, 9, 9, 9, 9, 9, 7, 7, 7, 7, 7, 7, 7, 7, 7, 7, 7, 7, 7, 7, 7, 7, 7, 7, 7, 7, 7, 7, 8, 8, 8, 8, 8, 8, 8, 8, 8, 8, 8, 9, 9, 9, 9, 9, 9, 9, 9, 9, 9, 9, 7, 7, 7, 7, 7, 7, 7, 7, 7, 7, 7, 7, 7, 7, 7, 7, 7, 7, 7, 7, 7, 7]\n"
          ]
        }
      ]
    },
    {
      "cell_type": "code",
      "source": [
        "performance_scores = np.array(performance_scores[:44])\n",
        "data = np.concatenate((data, [performance_scores]), axis=0)\n",
        "print(data)\n"
      ],
      "metadata": {
        "colab": {
          "base_uri": "https://localhost:8080/"
        },
        "id": "-AJhVZaux9mU",
        "outputId": "8be3b378-802e-4ebe-8e5c-f57f219e0ddd"
      },
      "execution_count": 196,
      "outputs": [
        {
          "output_type": "stream",
          "name": "stdout",
          "text": [
            "[[ 0.    1.    2.    3.    4.    5.    6.    7.    8.    9.   10.    0.\n",
            "   1.    2.    3.    4.    5.    6.    7.    8.    9.   10.    0.    1.\n",
            "   2.    3.    4.    5.    6.    7.    8.    9.   10.    1.    1.    1.\n",
            "   1.    1.    1.    1.   40.    1.    1.    1.  ]\n",
            " [ 0.    1.    2.    3.    4.    5.    6.    7.    8.    9.   10.    0.\n",
            "   1.    2.    3.    4.    5.    6.    7.    8.    9.   10.    0.    1.\n",
            "   2.    3.    4.    5.    6.    7.    8.    9.   10.    1.    1.    1.\n",
            "   1.    1.    1.    1.   40.    1.    1.    1.  ]\n",
            " [ 8.04  6.95  7.58  8.81  8.33  9.96  7.24  4.26 10.84  4.81  5.68  9.14\n",
            "   8.14  8.74  8.77  9.26  8.1   6.13  3.1   9.13  7.26  4.74  7.46  6.77\n",
            "  12.74  7.11  7.81  8.84  6.08  5.39  8.15  6.42  5.73  6.58  5.76  7.71\n",
            "   8.84  8.47  7.04  5.25 12.5   5.56  7.91  6.89]\n",
            " [ 8.04  6.95  7.58  8.81  8.33  9.96  7.24  4.26 10.84  4.81  5.68  9.14\n",
            "   8.14  8.74  8.77  9.26  8.1   6.13  3.1   9.13  7.26  4.74  7.46  6.77\n",
            "  12.74  7.11  7.81  8.84  6.08  5.39  8.15  6.42  5.73  6.58  5.76  7.71\n",
            "   8.84  8.47  7.04  5.25 12.5   5.56  7.91  6.89]\n",
            " [ 8.    8.    8.    8.    8.    8.    8.    8.    8.    8.    8.    9.\n",
            "   9.    9.    9.    9.    9.    9.    9.    9.    9.    9.    7.    7.\n",
            "   7.    7.    7.    7.    7.    7.    7.    7.    7.    7.    7.    7.\n",
            "   7.    7.    7.    7.    7.    7.    7.    7.  ]\n",
            " [ 8.    8.    8.    8.    8.    8.    8.    8.    8.    8.    8.    9.\n",
            "   9.    9.    9.    9.    9.    9.    9.    9.    9.    9.    7.    7.\n",
            "   7.    7.    7.    7.    7.    7.    7.    7.    7.    7.    7.    7.\n",
            "   7.    7.    7.    7.    7.    7.    7.    7.  ]]\n"
          ]
        }
      ]
    },
    {
      "cell_type": "code",
      "source": [
        "ids_max = np.argmax(data[3])\n",
        "ids_min = np.argmin(data[3])\n",
        "\n",
        "print(f\"Max: {ids_max} Min: {ids_min}\")"
      ],
      "metadata": {
        "colab": {
          "base_uri": "https://localhost:8080/"
        },
        "id": "v45X08-A--hc",
        "outputId": "63b70967-c559-48ca-9105-b857d59a84e0"
      },
      "execution_count": 199,
      "outputs": [
        {
          "output_type": "stream",
          "name": "stdout",
          "text": [
            "Max: 24 Min: 18\n"
          ]
        }
      ]
    }
  ]
}