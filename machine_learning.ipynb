{
  "nbformat": 4,
  "nbformat_minor": 0,
  "metadata": {
    "colab": {
      "provenance": [],
      "authorship_tag": "ABX9TyM5Tev7CjQK/atjPTjNdbOe",
      "include_colab_link": true
    },
    "kernelspec": {
      "name": "python3",
      "display_name": "Python 3"
    },
    "language_info": {
      "name": "python"
    }
  },
  "cells": [
    {
      "cell_type": "markdown",
      "metadata": {
        "id": "view-in-github",
        "colab_type": "text"
      },
      "source": [
        "<a href=\"https://colab.research.google.com/github/aysedemirel/machine-learning/blob/master/machine_learning.ipynb\" target=\"_parent\"><img src=\"https://colab.research.google.com/assets/colab-badge.svg\" alt=\"Open In Colab\"/></a>"
      ]
    },
    {
      "cell_type": "markdown",
      "source": [
        "# Guided project 1"
      ],
      "metadata": {
        "id": "PDrBErM4idve"
      }
    },
    {
      "cell_type": "markdown",
      "source": [
        "## PART 1"
      ],
      "metadata": {
        "id": "Wr8gHH22opPI"
      }
    },
    {
      "cell_type": "code",
      "execution_count": 146,
      "metadata": {
        "id": "ArvjXT6A-T35"
      },
      "outputs": [],
      "source": [
        "my_name = \"Ayse\"\n",
        "my_surname = \"Demirel Deniz\"\n",
        "my_age = 29\n",
        "ID_number = 123456789\n",
        "where_i_live = \"Turkiye\"\n",
        "health_insurance = True\n",
        "# my_nationality = \"Turkish\""
      ]
    },
    {
      "cell_type": "markdown",
      "source": [
        "**f\"\" is an alternative for \"\".format(\"\")**\n",
        "\n",
        "*Exp:*\n",
        "\n",
        "\n",
        "```\n",
        ">>> vocab = \"World\"\n",
        ">>> \"Hello {vocab}!\".format(vocab = vocab)\n",
        "'Hello World!'\n",
        ">>> f\"Hello {vocab}!\"\n",
        "'Hello World!'\n",
        "```\n",
        "\n"
      ],
      "metadata": {
        "id": "P4kquPxYil7O"
      }
    },
    {
      "cell_type": "code",
      "source": [
        "# Write a sentence using the print function to describe yourself using the variables above in the correct data type\n",
        "print(f\"My name is {my_name} {my_surname}. I am {my_age} years old, I live in {where_i_live}\")"
      ],
      "metadata": {
        "colab": {
          "base_uri": "https://localhost:8080/"
        },
        "id": "RwwFsXwwhkZ6",
        "outputId": "a8127031-f83d-4192-9f8a-6ff4c23efa30"
      },
      "execution_count": 147,
      "outputs": [
        {
          "output_type": "stream",
          "name": "stdout",
          "text": [
            "My name is Ayse Demirel Deniz. I am 29 years old, I live in Turkiye\n"
          ]
        }
      ]
    },
    {
      "cell_type": "markdown",
      "source": [
        "Lists are used to store multiple items in a single variable.\n",
        "\n",
        "```\n",
        "mylist = [\"apple\", \"banana\", \"cherry\"]\n",
        "```\n",
        "\n",
        "List items are indexed, the first item has index [0], the second item has index [1] etc.\n",
        "\n",
        "List items are ordered, changeable, and allow duplicate values.\n",
        "\n",
        "\n",
        "- When we say that lists are **ordered**, it means that the items have a defined order, and that order will not change.\n",
        "If you add new items to a list, the new items will be placed at the end of the list.\n",
        "- The list is **changeable**, meaning that we can change, add, and remove items in a list after it has been created.\n",
        "- Since lists are indexed, lists can have items with the same value.\n",
        "\n",
        "To determine how many items a list has, use the len() function.\n",
        "\n",
        "List items can be of any data type."
      ],
      "metadata": {
        "id": "r6ebm7raqJJA"
      }
    },
    {
      "cell_type": "code",
      "source": [
        "item_list = [\"Laptop\", \"Headset\", \"Second monitor\", \"Mousepad\", \"USB drive\", \"External drive\"]"
      ],
      "metadata": {
        "id": "vKXmdk5Sj4CT"
      },
      "execution_count": 148,
      "outputs": []
    },
    {
      "cell_type": "code",
      "source": [
        "print(item_list)"
      ],
      "metadata": {
        "colab": {
          "base_uri": "https://localhost:8080/"
        },
        "id": "lQ5SbJMekFmz",
        "outputId": "89d11181-801a-4549-b6c5-6f727ac0fde7"
      },
      "execution_count": 149,
      "outputs": [
        {
          "output_type": "stream",
          "name": "stdout",
          "text": [
            "['Laptop', 'Headset', 'Second monitor', 'Mousepad', 'USB drive', 'External drive']\n"
          ]
        }
      ]
    },
    {
      "cell_type": "code",
      "source": [
        "mandatory_item_list = item_list[0:3]"
      ],
      "metadata": {
        "id": "VAp73UsjkN0M"
      },
      "execution_count": 150,
      "outputs": []
    },
    {
      "cell_type": "code",
      "source": [
        "optional_item_list = item_list[3:6]"
      ],
      "metadata": {
        "id": "bImew6YHkTcr"
      },
      "execution_count": 151,
      "outputs": []
    },
    {
      "cell_type": "code",
      "source": [
        "print(mandatory_item_list)\n",
        "print(optional_item_list)"
      ],
      "metadata": {
        "colab": {
          "base_uri": "https://localhost:8080/"
        },
        "id": "dU87bgHSkXhi",
        "outputId": "11cbae61-9979-4e27-f897-ad3d99d46663"
      },
      "execution_count": 152,
      "outputs": [
        {
          "output_type": "stream",
          "name": "stdout",
          "text": [
            "['Laptop', 'Headset', 'Second monitor']\n",
            "['Mousepad', 'USB drive', 'External drive']\n"
          ]
        }
      ]
    },
    {
      "cell_type": "markdown",
      "source": [
        "## PART 2"
      ],
      "metadata": {
        "id": "ezFbBddQot1m"
      }
    },
    {
      "cell_type": "markdown",
      "source": [
        "Dictionaries are used to store data values in *key:value* pairs.\n",
        "\n",
        "```\n",
        "thisdict = {\n",
        "  \"brand\": \"Ford\",\n",
        "  \"model\": \"Mustang\",\n",
        "  \"year\": 1964\n",
        "}\n",
        "```\n",
        "\n",
        "A dictionary is a collection which is ordered, changeable and do not allow duplicates.\n",
        "\n",
        "When we say that dictionaries are ordered, it means that the items have a defined order, and that order will not change.\n",
        "\n",
        "Unordered means that the items do not have a defined order, you cannot refer to an item by using an index.\n",
        "\n",
        "Dictionaries are changeable, meaning that we can change, add or remove items after the dictionary has been created.\n",
        "\n",
        "To determine how many items a dictionary has, use the len() function.\n",
        "\n",
        "The values in dictionary items can be of any data type."
      ],
      "metadata": {
        "id": "6Hl9c7ikpQJi"
      }
    },
    {
      "cell_type": "code",
      "source": [
        "limit = 5000"
      ],
      "metadata": {
        "id": "5QZ0QJ4uowiK"
      },
      "execution_count": 153,
      "outputs": []
    },
    {
      "cell_type": "code",
      "source": [
        "price_sheet = {\n",
        "    \"Laptop\": 1500,\n",
        "    \"Headset\": 100,\n",
        "    \"Second monitor\": 200,\n",
        "    \"Mousepad\": 50,\n",
        "    \"USB drive\": 70,\n",
        "    \"External drive\": 250\n",
        "}"
      ],
      "metadata": {
        "id": "Tj5BKr5Eo01A"
      },
      "execution_count": 154,
      "outputs": []
    },
    {
      "cell_type": "code",
      "source": [
        "cart = []"
      ],
      "metadata": {
        "id": "buSOGaidrWoK"
      },
      "execution_count": 155,
      "outputs": []
    },
    {
      "cell_type": "code",
      "source": [
        "def add_to_cart (item, quantity):\n",
        "  cart.append((item,quantity))\n",
        "  item_list.remove(item)\n",
        "  # print(\"cart: \",cart)\n",
        "  # print(\"item_list: \",item_list)"
      ],
      "metadata": {
        "id": "Xi0uXAGhrbid"
      },
      "execution_count": 156,
      "outputs": []
    },
    {
      "cell_type": "code",
      "source": [
        "def create_invoice():\n",
        "  total_amount_inc_tax = 0\n",
        "  # print(len(cart))\n",
        "  for item, quantity in cart:\n",
        "    # print(\"create_invoice: \", item, \" - \", quantity)\n",
        "    price = price_sheet[item]\n",
        "    tax = 0.18 * price\n",
        "    total = (tax + price) * quantity\n",
        "    total_amount_inc_tax += total\n",
        "\n",
        "    print('Item:',item,\"\\t\",\"Price:\",price,\"\\t\",\"Quantity:\",quantity,\"\\t\",\"Tax:\",tax,\"\\t\",\"Total:\",total,\"\\n\")\n",
        "    print(\"After the taxes are applied the total amount is\",\"\\t\",total_amount_inc_tax)\n",
        "\n",
        "  return total_amount_inc_tax"
      ],
      "metadata": {
        "id": "OexoKB4or3UV"
      },
      "execution_count": 157,
      "outputs": []
    },
    {
      "cell_type": "code",
      "source": [
        "def checkout():\n",
        "  global limit\n",
        "  total_amount = create_invoice();\n",
        "  if limit == 0:\n",
        "    print(\"You don't have any budget\")\n",
        "  elif total_amount>limit:\n",
        "    print(\"The amount you have to pay is above the spending limit. You have to drop some items.\")\n",
        "  else:\n",
        "    limit -= total_amount\n",
        "    print(f\"The total amount (incl. taxes) you've paid is {total_amount}. You have {limit} dollars left\")"
      ],
      "metadata": {
        "id": "YXJzOlE_tCe5"
      },
      "execution_count": 158,
      "outputs": []
    },
    {
      "cell_type": "code",
      "source": [
        "add_to_cart(\"Laptop\",1)\n",
        "add_to_cart(\"Headset\",8)\n",
        "add_to_cart(\"Second monitor\", 1)\n",
        "add_to_cart(\"Mousepad\", 1)\n",
        "add_to_cart(\"USB drive\",2)\n",
        "add_to_cart(\"External drive\", 4)\n",
        "\n",
        "checkout()"
      ],
      "metadata": {
        "colab": {
          "base_uri": "https://localhost:8080/"
        },
        "id": "lNlnNrRcuVt6",
        "outputId": "40efb3f5-a8fd-4f2f-f26f-39bf3600cab0"
      },
      "execution_count": 159,
      "outputs": [
        {
          "output_type": "stream",
          "name": "stdout",
          "text": [
            "Item: Laptop \t Price: 1500 \t Quantity: 1 \t Tax: 270.0 \t Total: 1770.0 \n",
            "\n",
            "After the taxes are applied the total amount is \t 1770.0\n",
            "Item: Headset \t Price: 100 \t Quantity: 8 \t Tax: 18.0 \t Total: 944.0 \n",
            "\n",
            "After the taxes are applied the total amount is \t 2714.0\n",
            "Item: Second monitor \t Price: 200 \t Quantity: 1 \t Tax: 36.0 \t Total: 236.0 \n",
            "\n",
            "After the taxes are applied the total amount is \t 2950.0\n",
            "Item: Mousepad \t Price: 50 \t Quantity: 1 \t Tax: 9.0 \t Total: 59.0 \n",
            "\n",
            "After the taxes are applied the total amount is \t 3009.0\n",
            "Item: USB drive \t Price: 70 \t Quantity: 2 \t Tax: 12.6 \t Total: 165.2 \n",
            "\n",
            "After the taxes are applied the total amount is \t 3174.2\n",
            "Item: External drive \t Price: 250 \t Quantity: 4 \t Tax: 45.0 \t Total: 1180.0 \n",
            "\n",
            "After the taxes are applied the total amount is \t 4354.2\n",
            "The total amount (incl. taxes) you've paid is 4354.2. You have 645.8000000000002 dollars left\n"
          ]
        }
      ]
    }
  ]
}