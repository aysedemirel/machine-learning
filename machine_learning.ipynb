{
  "nbformat": 4,
  "nbformat_minor": 0,
  "metadata": {
    "colab": {
      "provenance": [],
      "authorship_tag": "ABX9TyMbzPeWg5nTAbBfqdFxhkDz",
      "include_colab_link": true
    },
    "kernelspec": {
      "name": "python3",
      "display_name": "Python 3"
    },
    "language_info": {
      "name": "python"
    }
  },
  "cells": [
    {
      "cell_type": "markdown",
      "metadata": {
        "id": "view-in-github",
        "colab_type": "text"
      },
      "source": [
        "<a href=\"https://colab.research.google.com/github/aysedemirel/machine-learning/blob/master/machine_learning.ipynb\" target=\"_parent\"><img src=\"https://colab.research.google.com/assets/colab-badge.svg\" alt=\"Open In Colab\"/></a>"
      ]
    },
    {
      "cell_type": "markdown",
      "source": [
        "# Guided project 1"
      ],
      "metadata": {
        "id": "PDrBErM4idve"
      }
    },
    {
      "cell_type": "code",
      "execution_count": 1,
      "metadata": {
        "id": "ArvjXT6A-T35"
      },
      "outputs": [],
      "source": [
        "my_name = \"Ayse\"\n",
        "my_surname = \"Demirel Deniz\"\n",
        "my_age = 29\n",
        "ID_number = 123456789\n",
        "where_i_live = \"Turkiye\"\n",
        "health_insurance = True\n",
        "# my_nationality = \"Turkish\""
      ]
    },
    {
      "cell_type": "markdown",
      "source": [
        "**f\"\" is an alternative for \"\".format(\"\")**\n",
        "\n",
        "*Exp:*\n",
        "\n",
        "\n",
        "```\n",
        ">>> vocab = \"World\"\n",
        ">>> \"Hello {vocab}!\".format(vocab = vocab)\n",
        "'Hello World!'\n",
        ">>> f\"Hello {vocab}!\"\n",
        "'Hello World!'\n",
        "```\n",
        "\n"
      ],
      "metadata": {
        "id": "P4kquPxYil7O"
      }
    },
    {
      "cell_type": "code",
      "source": [
        "# Write a sentence using the print function to describe yourself using the variables above in the correct data type\n",
        "print(f\"My name is {my_name} {my_surname}. I am {my_age} years old, I live in {where_i_live}\")"
      ],
      "metadata": {
        "colab": {
          "base_uri": "https://localhost:8080/"
        },
        "id": "RwwFsXwwhkZ6",
        "outputId": "00ee30f0-2998-4db6-f697-8977d8904921"
      },
      "execution_count": 3,
      "outputs": [
        {
          "output_type": "stream",
          "name": "stdout",
          "text": [
            "My name is Ayse Demirel Deniz. I am 29 years old, I live in Turkiye\n"
          ]
        }
      ]
    },
    {
      "cell_type": "code",
      "source": [
        "item_list = [\"Laptop\", \"Headset\", \"Second monitor\", \"Mousepad\", \"USB drive\", \"External drive\"]"
      ],
      "metadata": {
        "id": "vKXmdk5Sj4CT"
      },
      "execution_count": 5,
      "outputs": []
    },
    {
      "cell_type": "code",
      "source": [
        "print(item_list)"
      ],
      "metadata": {
        "colab": {
          "base_uri": "https://localhost:8080/"
        },
        "id": "lQ5SbJMekFmz",
        "outputId": "8a3f2daa-bc02-48e0-8025-3c4800a899bc"
      },
      "execution_count": 6,
      "outputs": [
        {
          "output_type": "stream",
          "name": "stdout",
          "text": [
            "['Laptop', 'Headset', 'Second monitor', 'Mousepad', 'USB drive', 'External drive']\n"
          ]
        }
      ]
    },
    {
      "cell_type": "code",
      "source": [
        "mandatory_item_list = item_list[0:3]"
      ],
      "metadata": {
        "id": "VAp73UsjkN0M"
      },
      "execution_count": 7,
      "outputs": []
    },
    {
      "cell_type": "code",
      "source": [
        "optional_item_list = item_list[3:6]"
      ],
      "metadata": {
        "id": "bImew6YHkTcr"
      },
      "execution_count": 8,
      "outputs": []
    },
    {
      "cell_type": "code",
      "source": [
        "print(mandatory_item_list)\n",
        "print(optional_item_list)"
      ],
      "metadata": {
        "colab": {
          "base_uri": "https://localhost:8080/"
        },
        "id": "dU87bgHSkXhi",
        "outputId": "9bb40611-b275-4f01-e5ce-e2445b280789"
      },
      "execution_count": 9,
      "outputs": [
        {
          "output_type": "stream",
          "name": "stdout",
          "text": [
            "['Laptop', 'Headset', 'Second monitor']\n",
            "['Mousepad', 'USB drive', 'External drive']\n"
          ]
        }
      ]
    }
  ]
}